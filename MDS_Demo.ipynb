{
 "cells": [
  {
   "cell_type": "markdown",
   "metadata": {},
   "source": [
    "<font size='4'><b>Problem statement:</b> Implement Multidimensional scaling (MDS) by using\n",
    "    <br>1. Correlation-based distance\n",
    "    <br>2. Euclidean Distance"
   ]
  },
  {
   "cell_type": "markdown",
   "metadata": {},
   "source": [
    "<br/><br/>"
   ]
  },
  {
   "cell_type": "code",
   "execution_count": 1,
   "metadata": {},
   "outputs": [],
   "source": [
    "# Import libraries.\n",
    "import pandas as pd\n",
    "import numpy as np\n",
    "\n",
    "\n",
    "import sklearn\n",
    "from sklearn.metrics import pairwise_distances\n",
    "from sklearn.manifold import MDS\n",
    "from sklearn import preprocessing\n",
    "\n",
    "import matplotlib.pyplot as plt\n",
    "%matplotlib inline"
   ]
  },
  {
   "cell_type": "code",
   "execution_count": null,
   "metadata": {},
   "outputs": [],
   "source": [
    "# Ignoring warnings.\n",
    "import warnings\n",
    "warnings.filterwarnings('ignore')"
   ]
  },
  {
   "cell_type": "code",
   "execution_count": null,
   "metadata": {},
   "outputs": [],
   "source": [
    "file_name  = \"Mining.csv\"\n",
    "zenodo_url = \"https://zenodo.org/record/4090016/files/\""
   ]
  },
  {
   "cell_type": "code",
   "execution_count": 2,
   "metadata": {},
   "outputs": [],
   "source": [
    "df = pd.read_csv('Assets/Mining.csv')"
   ]
  },
  {
   "cell_type": "code",
   "execution_count": 3,
   "metadata": {},
   "outputs": [
    {
     "data": {
      "text/html": [
       "<div>\n",
       "<style scoped>\n",
       "    .dataframe tbody tr th:only-of-type {\n",
       "        vertical-align: middle;\n",
       "    }\n",
       "\n",
       "    .dataframe tbody tr th {\n",
       "        vertical-align: top;\n",
       "    }\n",
       "\n",
       "    .dataframe thead th {\n",
       "        text-align: right;\n",
       "    }\n",
       "</style>\n",
       "<table border=\"1\" class=\"dataframe\">\n",
       "  <thead>\n",
       "    <tr style=\"text-align: right;\">\n",
       "      <th></th>\n",
       "      <th>Ticker</th>\n",
       "      <th>Share Price</th>\n",
       "      <th>Earnings</th>\n",
       "      <th>Earnings/Share</th>\n",
       "      <th>Cashflow</th>\n",
       "      <th>Market Cap</th>\n",
       "      <th>Gold Production</th>\n",
       "      <th>AISC</th>\n",
       "      <th>Cash Cost</th>\n",
       "      <th>Reserve</th>\n",
       "      <th>Grade</th>\n",
       "      <th>Revenue</th>\n",
       "      <th>Shares Out</th>\n",
       "    </tr>\n",
       "  </thead>\n",
       "  <tbody>\n",
       "    <tr>\n",
       "      <th>0</th>\n",
       "      <td>ACA</td>\n",
       "      <td>2.65</td>\n",
       "      <td>257.0</td>\n",
       "      <td>-1.73</td>\n",
       "      <td>-172.2</td>\n",
       "      <td>1086.5</td>\n",
       "      <td>768</td>\n",
       "      <td>875</td>\n",
       "      <td>587</td>\n",
       "      <td>7.45</td>\n",
       "      <td>3.83</td>\n",
       "      <td>751.0</td>\n",
       "      <td>410.0</td>\n",
       "    </tr>\n",
       "    <tr>\n",
       "      <th>1</th>\n",
       "      <td>AGI</td>\n",
       "      <td>6.51</td>\n",
       "      <td>186.0</td>\n",
       "      <td>0.09</td>\n",
       "      <td>37.1</td>\n",
       "      <td>2545.4</td>\n",
       "      <td>429</td>\n",
       "      <td>933</td>\n",
       "      <td>770</td>\n",
       "      <td>9.90</td>\n",
       "      <td>1.51</td>\n",
       "      <td>542.8</td>\n",
       "      <td>391.0</td>\n",
       "    </tr>\n",
       "    <tr>\n",
       "      <th>2</th>\n",
       "      <td>BTG</td>\n",
       "      <td>3.10</td>\n",
       "      <td>242.0</td>\n",
       "      <td>0.06</td>\n",
       "      <td>-163.0</td>\n",
       "      <td>3069.0</td>\n",
       "      <td>630</td>\n",
       "      <td>860</td>\n",
       "      <td>542</td>\n",
       "      <td>6.51</td>\n",
       "      <td>1.70</td>\n",
       "      <td>739.0</td>\n",
       "      <td>990.0</td>\n",
       "    </tr>\n",
       "  </tbody>\n",
       "</table>\n",
       "</div>"
      ],
      "text/plain": [
       "  Ticker  Share Price  Earnings  Earnings/Share  Cashflow  Market Cap  \\\n",
       "0    ACA         2.65     257.0           -1.73    -172.2      1086.5   \n",
       "1    AGI         6.51     186.0            0.09      37.1      2545.4   \n",
       "2    BTG         3.10     242.0            0.06    -163.0      3069.0   \n",
       "\n",
       "   Gold Production  AISC  Cash Cost  Reserve  Grade  Revenue  Shares Out  \n",
       "0              768   875        587     7.45   3.83    751.0       410.0  \n",
       "1              429   933        770     9.90   1.51    542.8       391.0  \n",
       "2              630   860        542     6.51   1.70    739.0       990.0  "
      ]
     },
     "execution_count": 3,
     "metadata": {},
     "output_type": "execute_result"
    }
   ],
   "source": [
    "df.head(3)"
   ]
  },
  {
   "cell_type": "markdown",
   "metadata": {},
   "source": [
    "#### Since data are well-groomed we can directly jump into processing."
   ]
  },
  {
   "cell_type": "code",
   "execution_count": 4,
   "metadata": {},
   "outputs": [
    {
     "name": "stdout",
     "output_type": "stream",
     "text": [
      "Companies: ACA, AGI, BTG, CG, DGC, EGO, IAG, KL, LMC, NGD, OGC, PVG, SMF, SSRM\n",
      "Variables: Share Price, Earnings, Earnings/Share, Cashflow, Market Cap, Gold Production, AISC, Cash Cost, Reserve, Grade, Revenue, Shares Out\n"
     ]
    }
   ],
   "source": [
    "# Droping company names.\n",
    "companies = df['Ticker'].tolist()\n",
    "print('Companies:', ', '.join(companies))\n",
    "df.drop(columns=['Ticker'], inplace=True)\n",
    "\n",
    "variables = df.columns.tolist()\n",
    "print('Variables:', ', '.join(variables))"
   ]
  },
  {
   "cell_type": "code",
   "execution_count": 5,
   "metadata": {},
   "outputs": [
    {
     "data": {
      "text/html": [
       "<div>\n",
       "<style scoped>\n",
       "    .dataframe tbody tr th:only-of-type {\n",
       "        vertical-align: middle;\n",
       "    }\n",
       "\n",
       "    .dataframe tbody tr th {\n",
       "        vertical-align: top;\n",
       "    }\n",
       "\n",
       "    .dataframe thead th {\n",
       "        text-align: right;\n",
       "    }\n",
       "</style>\n",
       "<table border=\"1\" class=\"dataframe\">\n",
       "  <thead>\n",
       "    <tr style=\"text-align: right;\">\n",
       "      <th></th>\n",
       "      <th>Share Price</th>\n",
       "      <th>Earnings</th>\n",
       "      <th>Earnings/Share</th>\n",
       "      <th>Cashflow</th>\n",
       "      <th>Market Cap</th>\n",
       "      <th>Gold Production</th>\n",
       "      <th>AISC</th>\n",
       "      <th>Cash Cost</th>\n",
       "      <th>Reserve</th>\n",
       "      <th>Grade</th>\n",
       "      <th>Revenue</th>\n",
       "      <th>Shares Out</th>\n",
       "    </tr>\n",
       "  </thead>\n",
       "  <tbody>\n",
       "    <tr>\n",
       "      <th>count</th>\n",
       "      <td>1.400000e+01</td>\n",
       "      <td>1.400000e+01</td>\n",
       "      <td>1.400000e+01</td>\n",
       "      <td>1.400000e+01</td>\n",
       "      <td>1.400000e+01</td>\n",
       "      <td>1.400000e+01</td>\n",
       "      <td>1.400000e+01</td>\n",
       "      <td>1.400000e+01</td>\n",
       "      <td>1.400000e+01</td>\n",
       "      <td>1.400000e+01</td>\n",
       "      <td>1.400000e+01</td>\n",
       "      <td>1.400000e+01</td>\n",
       "    </tr>\n",
       "    <tr>\n",
       "      <th>mean</th>\n",
       "      <td>-1.110223e-16</td>\n",
       "      <td>-4.361590e-17</td>\n",
       "      <td>-6.344132e-17</td>\n",
       "      <td>3.172066e-17</td>\n",
       "      <td>1.665335e-16</td>\n",
       "      <td>1.110223e-16</td>\n",
       "      <td>4.123686e-16</td>\n",
       "      <td>-2.299748e-16</td>\n",
       "      <td>-9.516197e-17</td>\n",
       "      <td>-2.379049e-17</td>\n",
       "      <td>-2.379049e-17</td>\n",
       "      <td>1.586033e-17</td>\n",
       "    </tr>\n",
       "    <tr>\n",
       "      <th>std</th>\n",
       "      <td>1.037749e+00</td>\n",
       "      <td>1.037749e+00</td>\n",
       "      <td>1.037749e+00</td>\n",
       "      <td>1.037749e+00</td>\n",
       "      <td>1.037749e+00</td>\n",
       "      <td>1.037749e+00</td>\n",
       "      <td>1.037749e+00</td>\n",
       "      <td>1.037749e+00</td>\n",
       "      <td>1.037749e+00</td>\n",
       "      <td>1.037749e+00</td>\n",
       "      <td>1.037749e+00</td>\n",
       "      <td>1.037749e+00</td>\n",
       "    </tr>\n",
       "    <tr>\n",
       "      <th>min</th>\n",
       "      <td>-1.009446e+00</td>\n",
       "      <td>-1.598064e+00</td>\n",
       "      <td>-2.792009e+00</td>\n",
       "      <td>-1.832745e+00</td>\n",
       "      <td>-1.452078e+00</td>\n",
       "      <td>-1.495376e+00</td>\n",
       "      <td>-2.107288e+00</td>\n",
       "      <td>-1.931421e+00</td>\n",
       "      <td>-1.307064e+00</td>\n",
       "      <td>-6.443458e-01</td>\n",
       "      <td>-1.468668e+00</td>\n",
       "      <td>-1.107969e+00</td>\n",
       "    </tr>\n",
       "    <tr>\n",
       "      <th>25%</th>\n",
       "      <td>-8.567089e-01</td>\n",
       "      <td>-8.432789e-01</td>\n",
       "      <td>-1.837604e-02</td>\n",
       "      <td>-5.016548e-01</td>\n",
       "      <td>-9.277150e-01</td>\n",
       "      <td>-7.663687e-01</td>\n",
       "      <td>-4.245065e-01</td>\n",
       "      <td>-7.015139e-01</td>\n",
       "      <td>-8.733296e-01</td>\n",
       "      <td>-5.221540e-01</td>\n",
       "      <td>-6.988126e-01</td>\n",
       "      <td>-8.012198e-01</td>\n",
       "    </tr>\n",
       "    <tr>\n",
       "      <th>50%</th>\n",
       "      <td>-1.973636e-01</td>\n",
       "      <td>-3.696456e-02</td>\n",
       "      <td>8.613768e-02</td>\n",
       "      <td>-1.204217e-01</td>\n",
       "      <td>-1.019532e-01</td>\n",
       "      <td>5.635293e-02</td>\n",
       "      <td>2.034582e-01</td>\n",
       "      <td>1.491265e-01</td>\n",
       "      <td>-2.569191e-01</td>\n",
       "      <td>-4.640239e-01</td>\n",
       "      <td>1.474196e-01</td>\n",
       "      <td>-2.758836e-01</td>\n",
       "    </tr>\n",
       "    <tr>\n",
       "      <th>75%</th>\n",
       "      <td>5.304932e-01</td>\n",
       "      <td>4.035232e-01</td>\n",
       "      <td>5.122320e-01</td>\n",
       "      <td>9.394123e-01</td>\n",
       "      <td>7.323159e-01</td>\n",
       "      <td>5.815871e-01</td>\n",
       "      <td>6.980317e-01</td>\n",
       "      <td>7.108020e-01</td>\n",
       "      <td>1.027676e+00</td>\n",
       "      <td>-4.465679e-02</td>\n",
       "      <td>4.487884e-01</td>\n",
       "      <td>3.556644e-01</td>\n",
       "    </tr>\n",
       "    <tr>\n",
       "      <th>max</th>\n",
       "      <td>2.253968e+00</td>\n",
       "      <td>1.779563e+00</td>\n",
       "      <td>1.147354e+00</td>\n",
       "      <td>1.422328e+00</td>\n",
       "      <td>1.716225e+00</td>\n",
       "      <td>1.717052e+00</td>\n",
       "      <td>1.561996e+00</td>\n",
       "      <td>1.593951e+00</td>\n",
       "      <td>1.545422e+00</td>\n",
       "      <td>2.867186e+00</td>\n",
       "      <td>1.985203e+00</td>\n",
       "      <td>2.722264e+00</td>\n",
       "    </tr>\n",
       "  </tbody>\n",
       "</table>\n",
       "</div>"
      ],
      "text/plain": [
       "        Share Price      Earnings  Earnings/Share      Cashflow    Market Cap  \\\n",
       "count  1.400000e+01  1.400000e+01    1.400000e+01  1.400000e+01  1.400000e+01   \n",
       "mean  -1.110223e-16 -4.361590e-17   -6.344132e-17  3.172066e-17  1.665335e-16   \n",
       "std    1.037749e+00  1.037749e+00    1.037749e+00  1.037749e+00  1.037749e+00   \n",
       "min   -1.009446e+00 -1.598064e+00   -2.792009e+00 -1.832745e+00 -1.452078e+00   \n",
       "25%   -8.567089e-01 -8.432789e-01   -1.837604e-02 -5.016548e-01 -9.277150e-01   \n",
       "50%   -1.973636e-01 -3.696456e-02    8.613768e-02 -1.204217e-01 -1.019532e-01   \n",
       "75%    5.304932e-01  4.035232e-01    5.122320e-01  9.394123e-01  7.323159e-01   \n",
       "max    2.253968e+00  1.779563e+00    1.147354e+00  1.422328e+00  1.716225e+00   \n",
       "\n",
       "       Gold Production          AISC     Cash Cost       Reserve  \\\n",
       "count     1.400000e+01  1.400000e+01  1.400000e+01  1.400000e+01   \n",
       "mean      1.110223e-16  4.123686e-16 -2.299748e-16 -9.516197e-17   \n",
       "std       1.037749e+00  1.037749e+00  1.037749e+00  1.037749e+00   \n",
       "min      -1.495376e+00 -2.107288e+00 -1.931421e+00 -1.307064e+00   \n",
       "25%      -7.663687e-01 -4.245065e-01 -7.015139e-01 -8.733296e-01   \n",
       "50%       5.635293e-02  2.034582e-01  1.491265e-01 -2.569191e-01   \n",
       "75%       5.815871e-01  6.980317e-01  7.108020e-01  1.027676e+00   \n",
       "max       1.717052e+00  1.561996e+00  1.593951e+00  1.545422e+00   \n",
       "\n",
       "              Grade       Revenue    Shares Out  \n",
       "count  1.400000e+01  1.400000e+01  1.400000e+01  \n",
       "mean  -2.379049e-17 -2.379049e-17  1.586033e-17  \n",
       "std    1.037749e+00  1.037749e+00  1.037749e+00  \n",
       "min   -6.443458e-01 -1.468668e+00 -1.107969e+00  \n",
       "25%   -5.221540e-01 -6.988126e-01 -8.012198e-01  \n",
       "50%   -4.640239e-01  1.474196e-01 -2.758836e-01  \n",
       "75%   -4.465679e-02  4.487884e-01  3.556644e-01  \n",
       "max    2.867186e+00  1.985203e+00  2.722264e+00  "
      ]
     },
     "execution_count": 5,
     "metadata": {},
     "output_type": "execute_result"
    }
   ],
   "source": [
    "# Rescaling by range\n",
    "std_scaler = preprocessing.StandardScaler()\n",
    "df = pd.DataFrame(std_scaler.fit_transform(df), columns=df.columns, index=df.index)\n",
    "df.describe()"
   ]
  },
  {
   "cell_type": "markdown",
   "metadata": {},
   "source": [
    "### 1. Using correlation-based distance for MDS"
   ]
  },
  {
   "cell_type": "code",
   "execution_count": 6,
   "metadata": {},
   "outputs": [],
   "source": [
    "# Calculating correlation.\n",
    "corr = df.corr()"
   ]
  },
  {
   "cell_type": "code",
   "execution_count": 7,
   "metadata": {},
   "outputs": [],
   "source": [
    "# Calculating correlation-based distance.\n",
    "corr_dis = 1 - corr\n",
    "\n",
    "model = MDS(n_components=3, dissimilarity='precomputed', random_state=1)\n",
    "mds_trans = model.fit_transform(corr_dis)\n",
    "\n",
    "x = mds_trans[:,0]\n",
    "y = mds_trans[:,1]\n",
    "z = mds_trans[:,2]"
   ]
  },
  {
   "cell_type": "code",
   "execution_count": 13,
   "metadata": {},
   "outputs": [
    {
     "name": "stderr",
     "output_type": "stream",
     "text": [
      "<ipython-input-13-c1dbd55eba6a>:39: UserWarning: Tight layout not applied. The left and right margins cannot be made large enough to accommodate all axes decorations. \n",
      "  plt.tight_layout()\n"
     ]
    },
    {
     "data": {
      "image/png": "[encoded data removed]",
      "text/plain": [
       "<Figure size 720x576 with 2 Axes>"
      ]
     },
     "metadata": {
      "needs_background": "light"
     },
     "output_type": "display_data"
    }
   ],
   "source": [
    "fig, ax = plt.subplots(figsize=(10, 8))\n",
    "ax.set_aspect('equal')\n",
    "plot = ax.scatter(x, y, s=100, c=z, vmin=-0.6, vmax=0.6)\n",
    "\n",
    "# Shifting conflicting labels.\n",
    "for i, txt in enumerate(variables):\n",
    "    if (txt == 'Revenue' or txt == 'Earnings'):\n",
    "        ax.annotate(txt, xy=(x[i], y[i]), xytext=(-75, 10),\n",
    "                    fontsize=15, va='top',\n",
    "                    xycoords='data', textcoords='offset points')\n",
    "    elif (txt == 'Shares Out'):\n",
    "        ax.annotate(txt, xy=(x[i], y[i]), xytext=(-95, 10),\n",
    "                    fontsize=15, va='top',\n",
    "                    xycoords='data', textcoords='offset points')\n",
    "    elif (txt == 'Gold Production' or txt == 'Earnings/Share'):\n",
    "        ax.annotate(txt, xy=(x[i], y[i]), xytext=(-130, 10),\n",
    "                    fontsize=15, va='top',\n",
    "                    xycoords='data', textcoords='offset points')\n",
    "    else:\n",
    "        ax.annotate(txt, xy=(x[i], y[i]), xytext=(10, 10),\n",
    "                    fontsize=15, va='top',\n",
    "                    xycoords='data', textcoords='offset points')\n",
    "\n",
    "# Color bar\n",
    "cbar = fig.colorbar(plot, pad=0.05, fraction=0.03)\n",
    "cbar.solids.set_edgecolor(\"face\")\n",
    "cbar.set_label(label='color',size=20)\n",
    "cbar.ax.tick_params(labelsize=20)\n",
    "\n",
    "        \n",
    "# Ticks and labels\n",
    "ax.set_xlabel('axis-1', fontsize=20)\n",
    "ax.set_ylabel('axis-2', fontsize=20)\n",
    "ax.set_xlim((-0.8, 0.8))\n",
    "ax.set_ylim((-0.8, 0.8))\n",
    "\n",
    "ax.spines['top'].set_visible(False)\n",
    "ax.spines['right'].set_visible(False)\n",
    "plt.tick_params(axis='both', labelsize=15)\n",
    "plt.tight_layout()"
   ]
  },
  {
   "cell_type": "markdown",
   "metadata": {},
   "source": [
    "### Using Euclidean Distance"
   ]
  },
  {
   "cell_type": "code",
   "execution_count": 11,
   "metadata": {},
   "outputs": [],
   "source": [
    "euc_dist = pairwise_distances(df)\n",
    "\n",
    "euc_model = MDS(n_components=3, dissimilarity='precomputed', random_state=1)\n",
    "euc_trans = euc_model.fit_transform(euc_dist)\n",
    "\n",
    "x = euc_trans[:,0]\n",
    "y = euc_trans[:,1]\n",
    "z = euc_trans[:,2]"
   ]
  },
  {
   "cell_type": "code",
   "execution_count": 12,
   "metadata": {},
   "outputs": [
    {
     "data": {
      "text/plain": [
       "(-4.0, 4.0)"
      ]
     },
     "execution_count": 12,
     "metadata": {},
     "output_type": "execute_result"
    },
    {
     "data": {
      "image/png": "[encoded data removed]",
      "text/plain": [
       "<Figure size 720x576 with 2 Axes>"
      ]
     },
     "metadata": {
      "needs_background": "light"
     },
     "output_type": "display_data"
    }
   ],
   "source": [
    "# Plot of MDS for companies \n",
    "fig, ax = plt.subplots(figsize=(10,8))\n",
    "ax.set_aspect('equal')\n",
    "plot = ax.scatter(x, y, s=100, c=z)\n",
    "\n",
    "for i, txt in enumerate(companies):\n",
    "    if (txt == 'NGD'):\n",
    "        ax.annotate(txt, xy=(x[i], y[i]), xytext=(-40, 10),\n",
    "                    fontsize=15, va='top',\n",
    "                    xycoords='data', textcoords='offset points')\n",
    "    else:\n",
    "        ax.annotate(txt, (x[i], y[i]), xytext=(5, 10),\n",
    "                    fontsize=18, va='top',\n",
    "                    xycoords='data', textcoords='offset points') \n",
    "        \n",
    "# Color bar        \n",
    "cbar = fig.colorbar(plot, pad=0.05, fraction=0.03)\n",
    "cbar.solids.set_edgecolor(\"face\")\n",
    "cbar.set_label(label='Color',size=20)\n",
    "cbar.ax.tick_params(labelsize=20)\n",
    "\n",
    "# Ticks  and labels\n",
    "ax.set_xlabel('axis-1', fontsize=20)\n",
    "ax.set_ylabel('axis-2', fontsize=20)\n",
    "plt.tick_params(axis='both', labelsize=15)\n",
    "plt.tight_layout()\n",
    "\n",
    "ax.spines['top'].set_visible(False)\n",
    "ax.spines['right'].set_visible(False)\n",
    "ax.set_xlim((-4, 4))\n",
    "ax.set_ylim((-4, 4))\n"
   ]
  },
  {
   "cell_type": "code",
   "execution_count": null,
   "metadata": {},
   "outputs": [],
   "source": []
  }
 ],
 "metadata": {
  "kernelspec": {
   "display_name": "Python 3",
   "language": "python",
   "name": "python3"
  },
  "language_info": {
   "codemirror_mode": {
    "name": "ipython",
    "version": 3
   },
   "file_extension": ".py",
   "mimetype": "text/x-python",
   "name": "python",
   "nbconvert_exporter": "python",
   "pygments_lexer": "ipython3",
   "version": "3.8.3"
  }
 },
 "nbformat": 4,
 "nbformat_minor": 4
}
